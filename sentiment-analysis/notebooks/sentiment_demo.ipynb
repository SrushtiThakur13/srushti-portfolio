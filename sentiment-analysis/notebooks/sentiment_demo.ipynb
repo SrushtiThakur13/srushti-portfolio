{
 "cells": [
  {
   "cell_type": "markdown",
   "metadata": {},
   "source": [
    "# Sentiment Analysis \n",
    "\n",
    "This notebook demonstrates sentiment visualization techniques:\n",
    "- Word clouds for positive & negative reviews\n",
    "- Sentiment distribution\n",
    "- A simulated attention heatmap (innovative touch!)"
   ]
  },
  {
   "cell_type": "code",
   "execution_count": null,
   "metadata": {},
   "outputs": [],
   "source": [
    "import matplotlib.pyplot as plt\n",
    "from wordcloud import WordCloud\n",
    "import seaborn as sns\n",
    "import numpy as np\n",
    "\n",
    "# Sample texts\n",
    "positive_text = \"This product is amazing great fantastic excellent wonderful happy love enjoy awesome best\"\n",
    "negative_text = \"Terrible bad worst horrible disappointing poor sad hate awful problem broken\"\n",
    "\n",
    "# --- Word Clouds ---\n",
    "wc_pos = WordCloud(width=800, height=400, background_color=\"white\").generate(positive_text)\n",
    "plt.imshow(wc_pos, interpolation=\"bilinear\")\n",
    "plt.axis(\"off\")\n",
    "plt.title(\"Word Cloud - Positive Reviews\")\n",
    "plt.savefig(\"../visuals/wordcloud_positive.png\")\n",
    "plt.close()\n",
    "\n",
    "wc_neg = WordCloud(width=800, height=400, background_color=\"white\").generate(negative_text)\n",
    "plt.imshow(wc_neg, interpolation=\"bilinear\")\n",
    "plt.axis(\"off\")\n",
    "plt.title(\"Word Cloud - Negative Reviews\")\n",
    "plt.savefig(\"../visuals/wordcloud_negative.png\")\n",
    "plt.close()\n",
    "\n",
    "# --- Sentiment Distribution ---\n",
    "counts = {\"Positive\": 120, \"Negative\": 80}\n",
    "sns.barplot(x=list(counts.keys()), y=list(counts.values()), palette=[\"green\", \"red\"])\n",
    "plt.title(\"Sentiment Distribution\")\n",
    "plt.savefig(\"../visuals/sentiment_distribution.png\")\n",
    "plt.close()\n",
    "\n",
    "# --- Simulated Attention Heatmap ---\n",
    "attention = np.random.rand(5, 10)\n",
    "sns.heatmap(attention, cmap=\"YlGnBu\", xticklabels=[f\"Word{i}\" for i in range(10)], yticklabels=[f\"Layer{i}\" for i in range(5)])\n",
    "plt.title(\"Simulated Attention Heatmap\")\n",
    "plt.savefig(\"../visuals/attention_heatmap.png\")\n",
    "plt.close()"
   ]
  }
 ],
 "metadata": {
  "kernelspec": {
   "display_name": "Python 3",
   "language": "python",
   "name": "python3"
  },
  "language_info": {
   "name": "python",
   "version": "3.9"
  }
 },
 "nbformat": 4,
 "nbformat_minor": 5
}
