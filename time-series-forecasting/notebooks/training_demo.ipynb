{
 "cells": [
  {
   "cell_type": "markdown",
   "metadata": {},
   "source": [
    "# ⏳ Time Series Forecasting with LSTM\n",
    "\n",
    "This notebook demonstrates how to build and fine-tune an LSTM model for time series forecasting.\n",
    "\n",
    "**Steps:**\n",
    "1. Generate synthetic dataset\n",
    "2. Prepare data for supervised learning\n",
    "3. Build and train LSTM\n",
    "4. Fine-tune with lower learning rate\n",
    "5. Evaluate and visualize results"
   ]
  },
  {
   "cell_type": "code",
   "execution_count": null,
   "metadata": {},
   "outputs": [],
   "source": [
    "import numpy as np\n",
    "import matplotlib.pyplot as plt\n",
    "import tensorflow as tf\n",
    "from tensorflow.keras.models import Sequential\n",
    "from tensorflow.keras.layers import LSTM, Dense\n",
    "from sklearn.preprocessing import MinMaxScaler\n",
    "import os\n",
    "\n",
    "os.makedirs(\"../visuals\", exist_ok=True)\n",
    "np.random.seed(42)"
   ]
  },
  {
   "cell_type": "code",
   "execution_count": null,
   "metadata": {},
   "outputs": [],
   "source": [
    "# Generate synthetic time series\n",
    "time = np.arange(200)\n",
    "series = 0.05 * time + 2*np.sin(0.1*time) + np.random.normal(0,0.2,200)\n",
    "\n",
    "plt.plot(time, series)\n",
    "plt.title(\"Synthetic Time Series\")\n",
    "plt.show()"
   ]
  },
  {
   "cell_type": "code",
   "execution_count": null,
   "metadata": {},
   "outputs": [],
   "source": [
    "# Prepare supervised data\n",
    "def create_dataset(series, window_size=10):\n",
    "    X, y = [], []\n",
    "    for i in range(len(series)-window_size):\n",
    "        X.append(series[i:i+window_size])\n",
    "        y.append(series[i+window_size])\n",
    "    return np.array(X), np.array(y)\n",
    "\n",
    "scaler = MinMaxScaler()\n",
    "series_scaled = scaler.fit_transform(series.reshape(-1,1)).flatten()\n",
    "X, y = create_dataset(series_scaled, window_size=10)\n",
    "X = X.reshape((X.shape[0], X.shape[1], 1))\n",
    "\n",
    "X_train, X_test = X[:150], X[150:]\n",
    "y_train, y_test = y[:150], y[150:]"
   ]
  },
  {
   "cell_type": "code",
   "execution_count": null,
   "metadata": {},
   "outputs": [],
   "source": [
    "# Build LSTM model\n",
    "model = Sequential([\n",
    "    LSTM(50, activation='tanh', input_shape=(10,1)),\n",
    "    Dense(1)\n",
    "])\n",
    "\n",
    "model.compile(optimizer=tf.keras.optimizers.Adam(learning_rate=0.01), loss='mse')\n",
    "history = model.fit(X_train, y_train, epochs=20, validation_data=(X_test, y_test), verbose=1)"
   ]
  },
  {
   "cell_type": "code",
   "execution_count": null,
   "metadata": {},
   "outputs": [],
   "source": [
    "# Fine-tune with lower learning rate\n",
    "model.compile(optimizer=tf.keras.optimizers.Adam(learning_rate=0.001), loss='mse')\n",
    "history_fine = model.fit(X_train, y_train, epochs=10, validation_data=(X_test, y_test), verbose=1)"
   ]
  },
  {
   "cell_type": "code",
   "execution_count": null,
   "metadata": {},
   "outputs": [],
   "source": [
    "# Plot training vs validation loss\n",
    "plt.plot(history.history['loss'], label='Train Loss')\n",
    "plt.plot(history.history['val_loss'], label='Val Loss')\n",
    "plt.plot(range(20,30), history_fine.history['loss'], label='Fine-tune Train Loss')\n",
    "plt.plot(range(20,30), history_fine.history['val_loss'], label='Fine-tune Val Loss')\n",
    "plt.xlabel('Epochs')\n",
    "plt.ylabel('Loss')\n",
    "plt.legend()\n",
    "plt.title('LSTM Training & Fine-Tuning')\n",
    "plt.savefig(\"../visuals/training_loss.png\")\n",
    "plt.show()"
   ]
  },
  {
   "cell_type": "code",
   "execution_count": null,
   "metadata": {},
   "outputs": [],
   "source": [
    "# Evaluate on test set\n",
    "preds = model.predict(X_test)\n",
    "preds_rescaled = scaler.inverse_transform(preds)\n",
    "y_test_rescaled = scaler.inverse_transform(y_test.reshape(-1,1))\n",
    "\n",
    "plt.figure(figsize=(8,4))\n",
    "plt.plot(range(len(y_test_rescaled)), y_test_rescaled, label=\"Actual\")\n",
    "plt.plot(range(len(preds_rescaled)), preds_rescaled, label=\"Forecast\")\n",
    "plt.legend(); plt.title(\"Forecast vs Actual (LSTM)\")\n",
    "plt.savefig(\"../visuals/forecast_vs_actual.png\")\n",
    "plt.show()"
   ]
  }
 ],
 "metadata": {
  "kernelspec": {
   "display_name": "Python 3",
   "language": "python",
   "name": "python3"
  },
  "language_info": {
   "name": "python",
   "version": "3.9"
  }
 },
 "nbformat": 4,
 "nbformat_minor": 5
}

